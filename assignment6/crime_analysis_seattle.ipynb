{
 "cells": [
  {
   "cell_type": "markdown",
   "metadata": {},
   "source": [
    "# Overview\n",
    "\n",
    "This is a basic analysis for crime dataset from seattle during summer 2014, which analyzes the incident types of crime and time pattern of crime occurrence during that time."
   ]
  },
  {
   "cell_type": "markdown",
   "metadata": {},
   "source": [
    "# Data\n",
    "\n",
    "All datasets are from the course link: https://github.com/uwescience/datasci_course_materials/tree/master/assignment6\n",
    "More can be seen in detail from READE.md file in that assignment.\n",
    "\n",
    "# Code\n",
    "\n",
    "I use Python with Pandas and matplotlib packages to do basic analysis."
   ]
  },
  {
   "cell_type": "markdown",
   "metadata": {},
   "source": [
    "# Data Overview\n",
    "\n",
    "As you can see from below table, I imported all dataset from external file and show first 5 rows of that dataset. This dataset contains many attributes but not so dirty -- NaN just occurs in the col of Occurred Date Range End. "
   ]
  },
  {
   "cell_type": "code",
   "execution_count": 2,
   "metadata": {
    "collapsed": false
   },
   "outputs": [
    {
     "data": {
      "text/html": [
       "<div>\n",
       "<table border=\"1\" class=\"dataframe\">\n",
       "  <thead>\n",
       "    <tr style=\"text-align: right;\">\n",
       "      <th></th>\n",
       "      <th>RMS CDW ID</th>\n",
       "      <th>General Offense Number</th>\n",
       "      <th>Offense Code</th>\n",
       "      <th>Offense Code Extension</th>\n",
       "      <th>Offense Type</th>\n",
       "      <th>Summary Offense Code</th>\n",
       "      <th>Summarized Offense Description</th>\n",
       "      <th>Date Reported</th>\n",
       "      <th>Occurred Date or Date Range Start</th>\n",
       "      <th>Occurred Date Range End</th>\n",
       "      <th>Hundred Block Location</th>\n",
       "      <th>District/Sector</th>\n",
       "      <th>Zone/Beat</th>\n",
       "      <th>Census Tract 2000</th>\n",
       "      <th>Longitude</th>\n",
       "      <th>Latitude</th>\n",
       "      <th>Location</th>\n",
       "      <th>Month</th>\n",
       "      <th>Year</th>\n",
       "    </tr>\n",
       "  </thead>\n",
       "  <tbody>\n",
       "    <tr>\n",
       "      <th>0</th>\n",
       "      <td>483839</td>\n",
       "      <td>2015218538</td>\n",
       "      <td>2202</td>\n",
       "      <td>0</td>\n",
       "      <td>BURGLARY-FORCE-RES</td>\n",
       "      <td>2200</td>\n",
       "      <td>BURGLARY</td>\n",
       "      <td>06/28/2015 10:31:00 AM</td>\n",
       "      <td>06/28/2014 10:31:00 AM</td>\n",
       "      <td>06/28/2015 10:31:00 AM</td>\n",
       "      <td>6XX BLOCK OF NW 74 ST</td>\n",
       "      <td>J</td>\n",
       "      <td>J2</td>\n",
       "      <td>2900.3013</td>\n",
       "      <td>-122.364672</td>\n",
       "      <td>47.682524</td>\n",
       "      <td>(47.68252427, -122.364671996)</td>\n",
       "      <td>6</td>\n",
       "      <td>2014</td>\n",
       "    </tr>\n",
       "    <tr>\n",
       "      <th>1</th>\n",
       "      <td>481252</td>\n",
       "      <td>2015213067</td>\n",
       "      <td>2610</td>\n",
       "      <td>0</td>\n",
       "      <td>FRAUD-IDENTITY THEFT</td>\n",
       "      <td>2600</td>\n",
       "      <td>FRAUD</td>\n",
       "      <td>06/24/2015 11:09:00 AM</td>\n",
       "      <td>06/01/2014 12:00:00 AM</td>\n",
       "      <td>06/24/2015 11:09:00 AM</td>\n",
       "      <td>23XX BLOCK OF 43 AV E</td>\n",
       "      <td>C</td>\n",
       "      <td>C2</td>\n",
       "      <td>6300.1004</td>\n",
       "      <td>-122.277080</td>\n",
       "      <td>47.639901</td>\n",
       "      <td>(47.639900761, -122.277080248)</td>\n",
       "      <td>6</td>\n",
       "      <td>2014</td>\n",
       "    </tr>\n",
       "    <tr>\n",
       "      <th>2</th>\n",
       "      <td>481375</td>\n",
       "      <td>2015210301</td>\n",
       "      <td>2316</td>\n",
       "      <td>0</td>\n",
       "      <td>THEFT-MAIL</td>\n",
       "      <td>2300</td>\n",
       "      <td>MAIL THEFT</td>\n",
       "      <td>06/22/2015 09:22:00 AM</td>\n",
       "      <td>08/31/2014 09:00:00 AM</td>\n",
       "      <td>NaN</td>\n",
       "      <td>81XX BLOCK OF 11 AV SW</td>\n",
       "      <td>F</td>\n",
       "      <td>F3</td>\n",
       "      <td>11300.5013</td>\n",
       "      <td>-122.349312</td>\n",
       "      <td>47.529232</td>\n",
       "      <td>(47.529232299, -122.349312181)</td>\n",
       "      <td>8</td>\n",
       "      <td>2014</td>\n",
       "    </tr>\n",
       "    <tr>\n",
       "      <th>3</th>\n",
       "      <td>481690</td>\n",
       "      <td>2015209327</td>\n",
       "      <td>2599</td>\n",
       "      <td>0</td>\n",
       "      <td>COUNTERFEIT</td>\n",
       "      <td>2500</td>\n",
       "      <td>COUNTERFEIT</td>\n",
       "      <td>06/21/2015 03:52:00 PM</td>\n",
       "      <td>06/20/2014 01:38:00 PM</td>\n",
       "      <td>NaN</td>\n",
       "      <td>6XX BLOCK OF PINE ST</td>\n",
       "      <td>M</td>\n",
       "      <td>M2</td>\n",
       "      <td>8200.1002</td>\n",
       "      <td>-122.334818</td>\n",
       "      <td>47.612368</td>\n",
       "      <td>(47.612368448, -122.334817763)</td>\n",
       "      <td>6</td>\n",
       "      <td>2014</td>\n",
       "    </tr>\n",
       "    <tr>\n",
       "      <th>4</th>\n",
       "      <td>478198</td>\n",
       "      <td>2015207880</td>\n",
       "      <td>2399</td>\n",
       "      <td>3</td>\n",
       "      <td>THEFT-OTH</td>\n",
       "      <td>2300</td>\n",
       "      <td>OTHER PROPERTY</td>\n",
       "      <td>06/20/2015 11:59:00 AM</td>\n",
       "      <td>06/01/2014 11:59:00 AM</td>\n",
       "      <td>11/01/2014 12:00:00 PM</td>\n",
       "      <td>77XX BLOCK OF SUNNYSIDE AV N</td>\n",
       "      <td>J</td>\n",
       "      <td>J3</td>\n",
       "      <td>2700.2015</td>\n",
       "      <td>-122.329379</td>\n",
       "      <td>47.685960</td>\n",
       "      <td>(47.685959879, -122.329378505)</td>\n",
       "      <td>6</td>\n",
       "      <td>2014</td>\n",
       "    </tr>\n",
       "  </tbody>\n",
       "</table>\n",
       "</div>"
      ],
      "text/plain": [
       "   RMS CDW ID  General Offense Number Offense Code  Offense Code Extension  \\\n",
       "0      483839              2015218538         2202                       0   \n",
       "1      481252              2015213067         2610                       0   \n",
       "2      481375              2015210301         2316                       0   \n",
       "3      481690              2015209327         2599                       0   \n",
       "4      478198              2015207880         2399                       3   \n",
       "\n",
       "           Offense Type Summary Offense Code Summarized Offense Description  \\\n",
       "0    BURGLARY-FORCE-RES                 2200                       BURGLARY   \n",
       "1  FRAUD-IDENTITY THEFT                 2600                          FRAUD   \n",
       "2            THEFT-MAIL                 2300                     MAIL THEFT   \n",
       "3           COUNTERFEIT                 2500                    COUNTERFEIT   \n",
       "4             THEFT-OTH                 2300                 OTHER PROPERTY   \n",
       "\n",
       "            Date Reported Occurred Date or Date Range Start  \\\n",
       "0  06/28/2015 10:31:00 AM            06/28/2014 10:31:00 AM   \n",
       "1  06/24/2015 11:09:00 AM            06/01/2014 12:00:00 AM   \n",
       "2  06/22/2015 09:22:00 AM            08/31/2014 09:00:00 AM   \n",
       "3  06/21/2015 03:52:00 PM            06/20/2014 01:38:00 PM   \n",
       "4  06/20/2015 11:59:00 AM            06/01/2014 11:59:00 AM   \n",
       "\n",
       "  Occurred Date Range End        Hundred Block Location District/Sector  \\\n",
       "0  06/28/2015 10:31:00 AM         6XX BLOCK OF NW 74 ST               J   \n",
       "1  06/24/2015 11:09:00 AM         23XX BLOCK OF 43 AV E               C   \n",
       "2                     NaN        81XX BLOCK OF 11 AV SW               F   \n",
       "3                     NaN          6XX BLOCK OF PINE ST               M   \n",
       "4  11/01/2014 12:00:00 PM  77XX BLOCK OF SUNNYSIDE AV N               J   \n",
       "\n",
       "  Zone/Beat  Census Tract 2000   Longitude   Latitude  \\\n",
       "0        J2          2900.3013 -122.364672  47.682524   \n",
       "1        C2          6300.1004 -122.277080  47.639901   \n",
       "2        F3         11300.5013 -122.349312  47.529232   \n",
       "3        M2          8200.1002 -122.334818  47.612368   \n",
       "4        J3          2700.2015 -122.329379  47.685960   \n",
       "\n",
       "                         Location  Month  Year  \n",
       "0   (47.68252427, -122.364671996)      6  2014  \n",
       "1  (47.639900761, -122.277080248)      6  2014  \n",
       "2  (47.529232299, -122.349312181)      8  2014  \n",
       "3  (47.612368448, -122.334817763)      6  2014  \n",
       "4  (47.685959879, -122.329378505)      6  2014  "
      ]
     },
     "execution_count": 2,
     "metadata": {},
     "output_type": "execute_result"
    }
   ],
   "source": [
    "# Imports\n",
    "\n",
    "# pandas\n",
    "import pandas as pd\n",
    "from pandas import Series,DataFrame\n",
    "\n",
    "# numpy, matplotlib, seaborn\n",
    "import numpy as np\n",
    "import matplotlib.pyplot as plt\n",
    "import seaborn as sns\n",
    "sns.set_style('whitegrid')\n",
    "%matplotlib inline\n",
    "\n",
    "# machine learning\n",
    "# from sklearn.linear_model import LogisticRegression\n",
    "# from sklearn.svm import SVC, LinearSVC\n",
    "# from sklearn.ensemble import RandomForestClassifier\n",
    "# from sklearn.neighbors import KNeighborsClassifier\n",
    "# from sklearn.naive_bayes import GaussianNB\n",
    "\n",
    "# get crime dataset \n",
    "crime_df = pd.read_csv('./seattle_incidents_summer_2014.csv', low_memory=False)\n",
    "\n",
    "# get a sense of dataset\n",
    "crime_df.head()"
   ]
  },
  {
   "cell_type": "markdown",
   "metadata": {},
   "source": [
    "In this basic analysis, most of the data are useless, hence I drop them for further study."
   ]
  },
  {
   "cell_type": "code",
   "execution_count": 3,
   "metadata": {
    "collapsed": true
   },
   "outputs": [],
   "source": [
    "# drop necessary cols for this analysis\n",
    "crime_df = crime_df.drop(['General Offense Number', 'RMS CDW ID', 'Offense Code', 'Offense Code Extension', 'Summary Offense Code', 'Date Reported', 'Occurred Date Range End'], axis=1)\n"
   ]
  },
  {
   "cell_type": "markdown",
   "metadata": {},
   "source": [
    "# Crime Types\n",
    "\n",
    "First question is: what crime types are frequently happened during this period of time?\n",
    "As you can see from below graph, Car Powl is the most siginificant crime type in seattle."
   ]
  },
  {
   "cell_type": "code",
   "execution_count": 4,
   "metadata": {
    "collapsed": false
   },
   "outputs": [
    {
     "data": {
      "text/plain": [
       "<matplotlib.axes._subplots.AxesSubplot at 0x11bc8ea20>"
      ]
     },
     "execution_count": 4,
     "metadata": {},
     "output_type": "execute_result"
    },
    {
     "data": {
      "image/png": "[encoded data removed]",
      "text/plain": [
       "<matplotlib.figure.Figure at 0x1066d09e8>"
      ]
     },
     "metadata": {},
     "output_type": "display_data"
    }
   ],
   "source": [
    "crime_df['Summarized Offense Description'].value_counts().plot(kind='bar')"
   ]
  },
  {
   "cell_type": "markdown",
   "metadata": {},
   "source": [
    "Next, we'd like to know what is the place most crimes happened in Seattle? From below graph, we can see district of M contains most crimes. But the difference among those districts are not very significant. Expect 99, which seems like an outlier, the place with lowest crime number is district O."
   ]
  },
  {
   "cell_type": "code",
   "execution_count": 5,
   "metadata": {
    "collapsed": false
   },
   "outputs": [
    {
     "data": {
      "text/plain": [
       "<matplotlib.axes._subplots.AxesSubplot at 0x119816cf8>"
      ]
     },
     "execution_count": 5,
     "metadata": {},
     "output_type": "execute_result"
    },
    {
     "data": {
      "image/png": "[encoded data removed]",
      "text/plain": [
       "<matplotlib.figure.Figure at 0x11bb180b8>"
      ]
     },
     "metadata": {},
     "output_type": "display_data"
    }
   ],
   "source": [
    "crime_df['District/Sector'].value_counts().plot(kind='bar')"
   ]
  },
  {
   "cell_type": "markdown",
   "metadata": {},
   "source": [
    "Furthermore, we want to know in what areas or neighborhoods are robberies or thefts most common.\n",
    "As you can see from below graph, districts of J and B are the two top areas robberies or thefts most common, which is different from the general pattern."
   ]
  },
  {
   "cell_type": "code",
   "execution_count": 6,
   "metadata": {
    "collapsed": false
   },
   "outputs": [
    {
     "data": {
      "text/plain": [
       "<matplotlib.axes._subplots.AxesSubplot at 0x119856ef0>"
      ]
     },
     "execution_count": 6,
     "metadata": {},
     "output_type": "execute_result"
    },
    {
     "data": {
      "image/png": "[encoded data removed]",
      "text/plain": [
       "<matplotlib.figure.Figure at 0x119dfe898>"
      ]
     },
     "metadata": {},
     "output_type": "display_data"
    }
   ],
   "source": [
    "crime_df.loc[crime_df['Summarized Offense Description'].isin(['VEHICLE THEFT','BIKE THEFT','ROBBERY','MAIL THEFT'])]['District/Sector'].value_counts().plot(kind='bar')\n"
   ]
  },
  {
   "cell_type": "markdown",
   "metadata": {},
   "source": [
    "# Time Pattern\n",
    "\n",
    "Specifically, we also need to know during what periods of the day are robberies most common.\n",
    "I put the Occurred Date or Date Range Start col as pandas.DateTimeIndex and separate it into date and time for further study."
   ]
  },
  {
   "cell_type": "code",
   "execution_count": 7,
   "metadata": {
    "collapsed": true
   },
   "outputs": [],
   "source": [
    "crime_df['Occurred Date or Date Range Start'] = pd.to_datetime(crime_df['Occurred Date or Date Range Start'])\n"
   ]
  },
  {
   "cell_type": "code",
   "execution_count": 8,
   "metadata": {
    "collapsed": false
   },
   "outputs": [],
   "source": [
    "crime_df = crime_df.set_index('Occurred Date or Date Range Start')"
   ]
  },
  {
   "cell_type": "code",
   "execution_count": 9,
   "metadata": {
    "collapsed": true
   },
   "outputs": [],
   "source": [
    "crime_df['time'] = crime_df.index.hour"
   ]
  },
  {
   "cell_type": "code",
   "execution_count": 10,
   "metadata": {
    "collapsed": false
   },
   "outputs": [
    {
     "data": {
      "text/html": [
       "<div>\n",
       "<table border=\"1\" class=\"dataframe\">\n",
       "  <thead>\n",
       "    <tr style=\"text-align: right;\">\n",
       "      <th></th>\n",
       "      <th>Offense Type</th>\n",
       "      <th>Summarized Offense Description</th>\n",
       "      <th>Hundred Block Location</th>\n",
       "      <th>District/Sector</th>\n",
       "      <th>Zone/Beat</th>\n",
       "      <th>Census Tract 2000</th>\n",
       "      <th>Longitude</th>\n",
       "      <th>Latitude</th>\n",
       "      <th>Location</th>\n",
       "      <th>Month</th>\n",
       "      <th>Year</th>\n",
       "      <th>time</th>\n",
       "    </tr>\n",
       "    <tr>\n",
       "      <th>Occurred Date or Date Range Start</th>\n",
       "      <th></th>\n",
       "      <th></th>\n",
       "      <th></th>\n",
       "      <th></th>\n",
       "      <th></th>\n",
       "      <th></th>\n",
       "      <th></th>\n",
       "      <th></th>\n",
       "      <th></th>\n",
       "      <th></th>\n",
       "      <th></th>\n",
       "      <th></th>\n",
       "    </tr>\n",
       "  </thead>\n",
       "  <tbody>\n",
       "    <tr>\n",
       "      <th>2014-06-28 10:31:00</th>\n",
       "      <td>BURGLARY-FORCE-RES</td>\n",
       "      <td>BURGLARY</td>\n",
       "      <td>6XX BLOCK OF NW 74 ST</td>\n",
       "      <td>J</td>\n",
       "      <td>J2</td>\n",
       "      <td>2900.3013</td>\n",
       "      <td>-122.364672</td>\n",
       "      <td>47.682524</td>\n",
       "      <td>(47.68252427, -122.364671996)</td>\n",
       "      <td>6</td>\n",
       "      <td>2014</td>\n",
       "      <td>10</td>\n",
       "    </tr>\n",
       "    <tr>\n",
       "      <th>2014-06-01 00:00:00</th>\n",
       "      <td>FRAUD-IDENTITY THEFT</td>\n",
       "      <td>FRAUD</td>\n",
       "      <td>23XX BLOCK OF 43 AV E</td>\n",
       "      <td>C</td>\n",
       "      <td>C2</td>\n",
       "      <td>6300.1004</td>\n",
       "      <td>-122.277080</td>\n",
       "      <td>47.639901</td>\n",
       "      <td>(47.639900761, -122.277080248)</td>\n",
       "      <td>6</td>\n",
       "      <td>2014</td>\n",
       "      <td>0</td>\n",
       "    </tr>\n",
       "    <tr>\n",
       "      <th>2014-08-31 09:00:00</th>\n",
       "      <td>THEFT-MAIL</td>\n",
       "      <td>MAIL THEFT</td>\n",
       "      <td>81XX BLOCK OF 11 AV SW</td>\n",
       "      <td>F</td>\n",
       "      <td>F3</td>\n",
       "      <td>11300.5013</td>\n",
       "      <td>-122.349312</td>\n",
       "      <td>47.529232</td>\n",
       "      <td>(47.529232299, -122.349312181)</td>\n",
       "      <td>8</td>\n",
       "      <td>2014</td>\n",
       "      <td>9</td>\n",
       "    </tr>\n",
       "    <tr>\n",
       "      <th>2014-06-20 13:38:00</th>\n",
       "      <td>COUNTERFEIT</td>\n",
       "      <td>COUNTERFEIT</td>\n",
       "      <td>6XX BLOCK OF PINE ST</td>\n",
       "      <td>M</td>\n",
       "      <td>M2</td>\n",
       "      <td>8200.1002</td>\n",
       "      <td>-122.334818</td>\n",
       "      <td>47.612368</td>\n",
       "      <td>(47.612368448, -122.334817763)</td>\n",
       "      <td>6</td>\n",
       "      <td>2014</td>\n",
       "      <td>13</td>\n",
       "    </tr>\n",
       "    <tr>\n",
       "      <th>2014-06-01 11:59:00</th>\n",
       "      <td>THEFT-OTH</td>\n",
       "      <td>OTHER PROPERTY</td>\n",
       "      <td>77XX BLOCK OF SUNNYSIDE AV N</td>\n",
       "      <td>J</td>\n",
       "      <td>J3</td>\n",
       "      <td>2700.2015</td>\n",
       "      <td>-122.329379</td>\n",
       "      <td>47.685960</td>\n",
       "      <td>(47.685959879, -122.329378505)</td>\n",
       "      <td>6</td>\n",
       "      <td>2014</td>\n",
       "      <td>11</td>\n",
       "    </tr>\n",
       "  </tbody>\n",
       "</table>\n",
       "</div>"
      ],
      "text/plain": [
       "                                           Offense Type  \\\n",
       "Occurred Date or Date Range Start                         \n",
       "2014-06-28 10:31:00                  BURGLARY-FORCE-RES   \n",
       "2014-06-01 00:00:00                FRAUD-IDENTITY THEFT   \n",
       "2014-08-31 09:00:00                          THEFT-MAIL   \n",
       "2014-06-20 13:38:00                         COUNTERFEIT   \n",
       "2014-06-01 11:59:00                           THEFT-OTH   \n",
       "\n",
       "                                  Summarized Offense Description  \\\n",
       "Occurred Date or Date Range Start                                  \n",
       "2014-06-28 10:31:00                                     BURGLARY   \n",
       "2014-06-01 00:00:00                                        FRAUD   \n",
       "2014-08-31 09:00:00                                   MAIL THEFT   \n",
       "2014-06-20 13:38:00                                  COUNTERFEIT   \n",
       "2014-06-01 11:59:00                               OTHER PROPERTY   \n",
       "\n",
       "                                         Hundred Block Location  \\\n",
       "Occurred Date or Date Range Start                                 \n",
       "2014-06-28 10:31:00                       6XX BLOCK OF NW 74 ST   \n",
       "2014-06-01 00:00:00                       23XX BLOCK OF 43 AV E   \n",
       "2014-08-31 09:00:00                      81XX BLOCK OF 11 AV SW   \n",
       "2014-06-20 13:38:00                        6XX BLOCK OF PINE ST   \n",
       "2014-06-01 11:59:00                77XX BLOCK OF SUNNYSIDE AV N   \n",
       "\n",
       "                                  District/Sector Zone/Beat  \\\n",
       "Occurred Date or Date Range Start                             \n",
       "2014-06-28 10:31:00                             J        J2   \n",
       "2014-06-01 00:00:00                             C        C2   \n",
       "2014-08-31 09:00:00                             F        F3   \n",
       "2014-06-20 13:38:00                             M        M2   \n",
       "2014-06-01 11:59:00                             J        J3   \n",
       "\n",
       "                                   Census Tract 2000   Longitude   Latitude  \\\n",
       "Occurred Date or Date Range Start                                             \n",
       "2014-06-28 10:31:00                        2900.3013 -122.364672  47.682524   \n",
       "2014-06-01 00:00:00                        6300.1004 -122.277080  47.639901   \n",
       "2014-08-31 09:00:00                       11300.5013 -122.349312  47.529232   \n",
       "2014-06-20 13:38:00                        8200.1002 -122.334818  47.612368   \n",
       "2014-06-01 11:59:00                        2700.2015 -122.329379  47.685960   \n",
       "\n",
       "                                                         Location  Month  \\\n",
       "Occurred Date or Date Range Start                                          \n",
       "2014-06-28 10:31:00                 (47.68252427, -122.364671996)      6   \n",
       "2014-06-01 00:00:00                (47.639900761, -122.277080248)      6   \n",
       "2014-08-31 09:00:00                (47.529232299, -122.349312181)      8   \n",
       "2014-06-20 13:38:00                (47.612368448, -122.334817763)      6   \n",
       "2014-06-01 11:59:00                (47.685959879, -122.329378505)      6   \n",
       "\n",
       "                                   Year  time  \n",
       "Occurred Date or Date Range Start              \n",
       "2014-06-28 10:31:00                2014    10  \n",
       "2014-06-01 00:00:00                2014     0  \n",
       "2014-08-31 09:00:00                2014     9  \n",
       "2014-06-20 13:38:00                2014    13  \n",
       "2014-06-01 11:59:00                2014    11  "
      ]
     },
     "execution_count": 10,
     "metadata": {},
     "output_type": "execute_result"
    }
   ],
   "source": [
    "crime_df.head()"
   ]
  },
  {
   "cell_type": "code",
   "execution_count": 11,
   "metadata": {
    "collapsed": false
   },
   "outputs": [
    {
     "data": {
      "text/plain": [
       "<matplotlib.axes._subplots.AxesSubplot at 0x119896e80>"
      ]
     },
     "execution_count": 11,
     "metadata": {},
     "output_type": "execute_result"
    },
    {
     "data": {
      "image/png": "[encoded data removed]",
      "text/plain": [
       "<matplotlib.figure.Figure at 0x1198a05f8>"
      ]
     },
     "metadata": {},
     "output_type": "display_data"
    }
   ],
   "source": [
    "crime_df.loc[crime_df['Summarized Offense Description'].isin(['ROBBERY'])]['time'].value_counts().sort_index().plot(kind='bar')"
   ]
  },
  {
   "cell_type": "markdown",
   "metadata": {},
   "source": [
    "As you can see from above graph, most robberies are happened during 21pm to 2am, which is around midnight. \n",
    "Furthermore, we also need to know which incidents are most common in the evening."
   ]
  },
  {
   "cell_type": "code",
   "execution_count": 12,
   "metadata": {
    "collapsed": false
   },
   "outputs": [
    {
     "data": {
      "text/plain": [
       "<matplotlib.axes._subplots.AxesSubplot at 0x11a5f46d8>"
      ]
     },
     "execution_count": 12,
     "metadata": {},
     "output_type": "execute_result"
    },
    {
     "data": {
      "image/png": "[encoded data removed]",
      "text/plain": [
       "<matplotlib.figure.Figure at 0x11a5f8cf8>"
      ]
     },
     "metadata": {},
     "output_type": "display_data"
    }
   ],
   "source": [
    "crime_df.between_time('1900', '0600')['Summarized Offense Description'].value_counts().plot(kind='bar')"
   ]
  },
  {
   "cell_type": "markdown",
   "metadata": {},
   "source": [
    "From above graph, it is obvious to see that car prowl, other property and fraud are three most common crimes during night"
   ]
  }
 ],
 "metadata": {
  "kernelspec": {
   "display_name": "Python 3",
   "language": "python",
   "name": "python3"
  },
  "language_info": {
   "codemirror_mode": {
    "name": "ipython",
    "version": 3
   },
   "file_extension": ".py",
   "mimetype": "text/x-python",
   "name": "python",
   "nbconvert_exporter": "python",
   "pygments_lexer": "ipython3",
   "version": "3.5.1"
  }
 },
 "nbformat": 4,
 "nbformat_minor": 0
}
